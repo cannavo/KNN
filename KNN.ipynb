{
 "cells": [
  {
   "cell_type": "code",
   "execution_count": 147,
   "metadata": {},
   "outputs": [],
   "source": [
    "import pandas as pd\n",
    "import matplotlib.pyplot as plt"
   ]
  },
  {
   "cell_type": "code",
   "execution_count": 155,
   "metadata": {},
   "outputs": [],
   "source": [
    "classes   = [(2,2),(-2,-2),(2,-2),(-2,2)]\n",
    "num_cols  = len(classes[0])\n",
    "col_names = [\"x_\"+str(i) for i in range(num_cols)] \n",
    "dfs = []\n",
    "for i in range(len(classes)):\n",
    "    data = np.random.randn(10, num_cols)*0.9\n",
    "    data[:,0] = data[:,0] + classes[i][0]\n",
    "    data[:,1] = data[:,1] + classes[i][1]\n",
    "    df = pd.DataFrame(data,columns = col_names)\n",
    "    df[\"label\"] = i + 1\n",
    "    dfs.append(df)\n",
    "data = pd.concat(dfs)"
   ]
  },
  {
   "cell_type": "code",
   "execution_count": 156,
   "metadata": {},
   "outputs": [],
   "source": [
    "def getPoints(k):\n",
    "    d_points = pd.DataFrame(columns=[\"x_0\",\"x_1\",\"label\"])\n",
    "    for i in range(1,len(classes)+1):\n",
    "        d_points=d_points.append(data[data.label == i].iloc[0:k][[\"x_0\",\"x_1\",\"label\"]])\n",
    "    return d_points"
   ]
  },
  {
   "cell_type": "code",
   "execution_count": 157,
   "metadata": {},
   "outputs": [],
   "source": [
    "def euclid(p1,p2): \n",
    "    return sum([(p1[i]-p2[i])**2 for i in range(len(p1))])"
   ]
  },
  {
   "cell_type": "code",
   "execution_count": 158,
   "metadata": {},
   "outputs": [],
   "source": [
    "def knn(k):\n",
    "    d_points = getPoints(k)\n",
    "    pred = []\n",
    "    for row in data[[\"x_0\",\"x_1\"]].values:\n",
    "        dist = []\n",
    "        \n",
    "        \n",
    "        \n",
    "        \n",
    "        \n",
    "        for index, r in d_points.iterrows():\n",
    "            dist.append([euclid(row,r[[\"x_0\",\"x_1\"]].values),r[\"label\"]])\n",
    "        dist.sort(key = lambda x: x[0])\n",
    "        v=[]\n",
    "        for i in range(len(classes)+1):\n",
    "            v.append(0)\n",
    "        for d in dist:\n",
    "            if (v[d[1]]==k-1):\n",
    "                pred.append(d[1])\n",
    "                break\n",
    "            v[d[1]]=v[d[1]]+1\n",
    "    return(pred)"
   ]
  },
  {
   "cell_type": "code",
   "execution_count": 159,
   "metadata": {},
   "outputs": [],
   "source": [
    "data[\"predicted\"]=knn(3)"
   ]
  },
  {
   "cell_type": "code",
   "execution_count": 160,
   "metadata": {},
   "outputs": [
    {
     "data": {
      "image/png": "[encoded data removed]",
      "text/plain": [
       "<Figure size 432x288 with 1 Axes>"
      ]
     },
     "metadata": {
      "needs_background": "light"
     },
     "output_type": "display_data"
    }
   ],
   "source": [
    "colors = [\"red\",\"yellow\",\"green\",\"blue\"]\n",
    "for i in range(len(colors)):\n",
    "    vals = data[data.label == (i + 1)][col_names].values\n",
    "    plt.scatter(vals[:,0],vals[:,1],color =colors[i])\n",
    "plt.show()"
   ]
  },
  {
   "cell_type": "code",
   "execution_count": 161,
   "metadata": {},
   "outputs": [
    {
     "data": {
      "image/png": "[encoded data removed]",
      "text/plain": [
       "<Figure size 432x288 with 1 Axes>"
      ]
     },
     "metadata": {
      "needs_background": "light"
     },
     "output_type": "display_data"
    }
   ],
   "source": [
    "for i in range(len(colors)):\n",
    "    vals = data[data.predicted == (i + 1)][col_names].values\n",
    "    plt.scatter(vals[:,0],vals[:,1],color =colors[i])\n",
    "plt.show()"
   ]
  },
  {
   "cell_type": "code",
   "execution_count": 211,
   "metadata": {},
   "outputs": [],
   "source": [
    "def cluster(k):\n",
    "    feat=data[['x_0', 'x_1']].values.tolist()\n",
    "    centroids=getPoints(1)[['x_0', 'x_1']].values.tolist()\n",
    "    closest=[0]*len(feat)\n",
    "    while True:\n",
    "        old_closest=closest.copy()\n",
    "        for i in range(len(feat)):\n",
    "            minim=9000000\n",
    "            minii=-1\n",
    "            for j in range(k):\n",
    "                dis=euclid(feat[i],centroids[j])\n",
    "                if (dis<minim):\n",
    "                    minim=dis\n",
    "                    minii=j\n",
    "            closest[i]=minii\n",
    "        print(centroids)\n",
    "        if (closest==old_closest):\n",
    "            break\n",
    "        centroids=[[0]*2 for i in range(k)]\n",
    "        n=[0]*k\n",
    "        for i in range(len(feat)):\n",
    "            n[closest[i]]=n[closest[i]]+1\n",
    "            for j in range(2):\n",
    "                centroids[closest[i]][j]=centroids[closest[i]][j]+feat[i][j]\n",
    "        for i in range(k):\n",
    "            for j in range(2):\n",
    "                centroids[i][j]=centroids[i][j]/n[i]\n",
    "    print(closest)\n",
    "    his=[0]*k\n",
    "    for c in closest:\n",
    "        his[c]=his[c]+1\n",
    "    return his        "
   ]
  },
  {
   "cell_type": "code",
   "execution_count": 212,
   "metadata": {
    "scrolled": true
   },
   "outputs": [
    {
     "name": "stdout",
     "output_type": "stream",
     "text": [
      "[[1.9731368996238567, 2.1217100845715984], [-1.4193134494896644, -2.8826589195304395], [0.9465783502933747, -2.344349959735948], [-1.9104554256969992, 2.0879265997312086]]\n",
      "[[2.141993885226742, 1.8691818961823057], [-2.0897344828552797, -2.5204266978463377], [2.5009826766170966, -2.033321983295545], [-2.187813400551343, 1.174953532328707]]\n",
      "[0, 0, 0, 0, 0, 0, 0, 0, 0, 0, 1, 1, 1, 1, 1, 1, 1, 1, 3, 1, 2, 2, 2, 2, 2, 2, 2, 2, 2, 2, 3, 3, 3, 3, 3, 3, 3, 3, 3, 3]\n"
     ]
    },
    {
     "data": {
      "text/plain": [
       "[10, 9, 10, 11]"
      ]
     },
     "execution_count": 212,
     "metadata": {},
     "output_type": "execute_result"
    }
   ],
   "source": [
    "cluster(4)"
   ]
  },
  {
   "cell_type": "code",
   "execution_count": 216,
   "metadata": {},
   "outputs": [
    {
     "name": "stdout",
     "output_type": "stream",
     "text": [
      "yes\n"
     ]
    }
   ],
   "source": []
  },
  {
   "cell_type": "code",
   "execution_count": null,
   "metadata": {},
   "outputs": [],
   "source": []
  }
 ],
 "metadata": {
  "kernelspec": {
   "display_name": "Python 3",
   "language": "python",
   "name": "python3"
  },
  "language_info": {
   "codemirror_mode": {
    "name": "ipython",
    "version": 3
   },
   "file_extension": ".py",
   "mimetype": "text/x-python",
   "name": "python",
   "nbconvert_exporter": "python",
   "pygments_lexer": "ipython3",
   "version": "3.7.3"
  }
 },
 "nbformat": 4,
 "nbformat_minor": 2
}
