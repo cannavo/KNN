{
 "cells": [
  {
   "cell_type": "code",
   "execution_count": 1,
   "metadata": {},
   "outputs": [],
   "source": [
    "import numpy as np\n",
    "import pandas as pd\n",
    "import random\n",
    "import time\n",
    "import pickle"
   ]
  },
  {
   "cell_type": "code",
   "execution_count": 2,
   "metadata": {},
   "outputs": [],
   "source": [
    "with open(\"data.txt\",\"r\") as fp:\n",
    "    lines=fp.readlines()"
   ]
  },
  {
   "cell_type": "code",
   "execution_count": 3,
   "metadata": {},
   "outputs": [],
   "source": [
    "d={}\n",
    "columns=[\"building\",\"pic\"]\n",
    "for i in range(128):\n",
    "    columns.append(\"x_\"+str(i))\n",
    "for col in columns:\n",
    "    d[col]=[]\n",
    "for line in lines:\n",
    "    line=line.split(\" \")[1].split(\"\\\\\")\n",
    "    d[\"building\"].append(line[0])\n",
    "    line=line[1].split(\".JPG:\")\n",
    "    d[\"pic\"].append(line[0])\n",
    "    line=line[1].split(\",\")\n",
    "    for i in range(128):\n",
    "        d[\"x_\"+str(i)].append(int(float(line[i])))\n",
    "data=pd.DataFrame(d)"
   ]
  },
  {
   "cell_type": "code",
   "execution_count": 11,
   "metadata": {},
   "outputs": [
    {
     "name": "stdout",
     "output_type": "stream",
     "text": [
      "122514\n"
     ]
    }
   ],
   "source": [
    "print(data.shape[0])"
   ]
  },
  {
   "cell_type": "code",
   "execution_count": 12,
   "metadata": {},
   "outputs": [],
   "source": [
    "def euclid2(p1,p2): \n",
    "    p=p1-p2\n",
    "    p=p**2\n",
    "    return np.sum(p)"
   ]
  },
  {
   "cell_type": "code",
   "execution_count": 13,
   "metadata": {},
   "outputs": [],
   "source": [
    "def euclid(p1,p2): \n",
    "    return sum([(p1[i]-p2[i])**2 for i in range(len(p1))])"
   ]
  },
  {
   "cell_type": "code",
   "execution_count": 14,
   "metadata": {},
   "outputs": [],
   "source": [
    "def findCentroid(centroids,point):\n",
    "    minDist = -1\n",
    "    pos = 0\n",
    "    for i in range(len(centroids)):\n",
    "        dist = euclid2(point[0],centroids[i][\"coordinates\"])\n",
    "        if minDist == -1:\n",
    "            minDist = dist\n",
    "            pos = i\n",
    "        elif minDist > dist:\n",
    "            minDist = dist\n",
    "            pos = i\n",
    "    return pos"
   ]
  },
  {
   "cell_type": "code",
   "execution_count": 15,
   "metadata": {},
   "outputs": [],
   "source": [
    "def initializeCentroids2(centroids,points):\n",
    "    for i in range(len(points)):\n",
    "        center=findCentroid(centroids,points[i])\n",
    "        points[i][1]=center\n",
    "        centroids[center][\"points\"][i]=True\n",
    "        centroids[center][\"num\"]+=1"
   ]
  },
  {
   "cell_type": "code",
   "execution_count": 16,
   "metadata": {},
   "outputs": [],
   "source": [
    "def initializeCentroids(centroids,points):\n",
    "    for i in range(len(points)):\n",
    "        center=findCentroid(centroids,points[i])\n",
    "        points[i][1]=center\n",
    "        centroids[center][\"points\"].append(i)"
   ]
  },
  {
   "cell_type": "code",
   "execution_count": 17,
   "metadata": {},
   "outputs": [],
   "source": [
    "def updateCentroids2(centroids,points):\n",
    "    for centroid in centroids:\n",
    "        arr=[]\n",
    "        for i in range(len(points)):\n",
    "            if(centroid[\"points\"][i]):\n",
    "                arr.append(points[i][0])\n",
    "        if (len(arr)==0):\n",
    "            centroid[\"coordinates\"]=np.zeros(128)\n",
    "        else: \n",
    "            centroid[\"coordinates\"]=np.mean(arr,axis=0)"
   ]
  },
  {
   "cell_type": "code",
   "execution_count": 18,
   "metadata": {},
   "outputs": [],
   "source": [
    "def updateCentroids(centroids,points):\n",
    "    for centroid in centroids:\n",
    "        arr=[]\n",
    "        for point in centroid[\"points\"]:\n",
    "            arr.append(points[point])\n",
    "        if (len(arr)==0):\n",
    "            centroid[\"coordinates\"]=np.zeros(128)\n",
    "        else: \n",
    "            centroid[\"coordinates\"]=np.mean(arr,axis=0)"
   ]
  },
  {
   "cell_type": "code",
   "execution_count": 19,
   "metadata": {},
   "outputs": [],
   "source": [
    "def updatePoints2(centroids,points):\n",
    "    updated=False\n",
    "    done=[False]*len(points)\n",
    "    for centroid in centroids:\n",
    "        for i in range(len(points)):\n",
    "            if(centroid[\"points\"][i]):\n",
    "                if(not done[centroid[\"points\"][i]]):\n",
    "                    done[centroid[\"points\"][i]]=True\n",
    "                    center=findCentroid(centroids,points[centroid[\"points\"][i]])\n",
    "                    if (center != points[i][1]):\n",
    "                        updated=True\n",
    "                        points[centroid[\"points\"][i]][1]=center\n",
    "                        centroids[center][\"points\"][i]=True\n",
    "                        centroids[center][\"num\"]+=1\n",
    "                        centroid[\"points\"][i]=False\n",
    "                        centroid[\"num\"]+=-1\n",
    "    return updated"
   ]
  },
  {
   "cell_type": "code",
   "execution_count": 20,
   "metadata": {},
   "outputs": [],
   "source": [
    "def updatePoints(centroids,points):\n",
    "    updated=False\n",
    "    done=[False]*len(points)\n",
    "    for centroid in centroids:\n",
    "        for i in range(len(centroid[\"points\"])-1,-1,-1):\n",
    "            if(not done[centroid[\"points\"][i]]):\n",
    "                done[centroid[\"points\"][i]]=True\n",
    "                center=findCentroid(centroids,points[centroid[\"points\"][i]])\n",
    "                if (center != points[centroid[\"points\"][i]][1]):\n",
    "                    updated=True\n",
    "                    points[centroid[\"points\"][i]][1]=center\n",
    "                    centroids[center][\"points\"].append(centroid[\"points\"][i])\n",
    "                    del centroid[\"points\"][i]\n",
    "    return updated"
   ]
  },
  {
   "cell_type": "code",
   "execution_count": 21,
   "metadata": {},
   "outputs": [],
   "source": [
    "def cluster(k,pic):\n",
    "    features=data.loc[data['pic'] == pic]\n",
    "    feat = features[features.columns.difference(['building', 'pic'])].values.tolist()\n",
    "    points=[]\n",
    "    for f in feat:\n",
    "        points.append([f,-1])\n",
    "    centers=random.sample(feat,k)\n",
    "    centroids=[{\"coordinates\":center , \"points\":[]} for center in centers]\n",
    "    initializeCentroids(centroids,points)\n",
    "    while (True):\n",
    "        updateCentroids(centroids,points)\n",
    "        if(not updatePoints(centroids,points)):\n",
    "            break\n",
    "    return centroids      "
   ]
  },
  {
   "cell_type": "code",
   "execution_count": 22,
   "metadata": {},
   "outputs": [],
   "source": [
    "def cluster2(k):\n",
    "    feat = data[data.columns.difference(['building', 'pic'])].values.tolist()\n",
    "    points=[]\n",
    "    for f in feat:\n",
    "        points.append([np.asarray(f),-1])\n",
    "    centers=random.sample(feat,k)\n",
    "    centroids=[{\"coordinates\":np.asarray(center) , \"points\":[False for i in range(len(points))] , \"num\":0} for center in centers]\n",
    "    initializeCentroids2(centroids,points)\n",
    "    while (True):\n",
    "        updateCentroids2(centroids,points)\n",
    "        if(not updatePoints2(centroids,points)):\n",
    "            break\n",
    "    return centroids"
   ]
  },
  {
   "cell_type": "code",
   "execution_count": 24,
   "metadata": {},
   "outputs": [
    {
     "ename": "ValueError",
     "evalue": "operands could not be broadcast together with shapes (128,) (2,) ",
     "output_type": "error",
     "traceback": [
      "\u001b[1;31m---------------------------------------------------------------------------\u001b[0m",
      "\u001b[1;31mValueError\u001b[0m                                Traceback (most recent call last)",
      "\u001b[1;32m<ipython-input-24-6f836415eb17>\u001b[0m in \u001b[0;36m<module>\u001b[1;34m\u001b[0m\n\u001b[0;32m      1\u001b[0m \u001b[0mstart\u001b[0m\u001b[1;33m=\u001b[0m\u001b[0mtime\u001b[0m\u001b[1;33m.\u001b[0m\u001b[0mtime\u001b[0m\u001b[1;33m(\u001b[0m\u001b[1;33m)\u001b[0m\u001b[1;33m\u001b[0m\u001b[1;33m\u001b[0m\u001b[0m\n\u001b[1;32m----> 2\u001b[1;33m \u001b[0ma\u001b[0m\u001b[1;33m=\u001b[0m\u001b[0mcluster\u001b[0m\u001b[1;33m(\u001b[0m\u001b[1;36m2\u001b[0m\u001b[1;33m)\u001b[0m\u001b[1;33m\u001b[0m\u001b[1;33m\u001b[0m\u001b[0m\n\u001b[0m\u001b[0;32m      3\u001b[0m \u001b[0mend\u001b[0m  \u001b[1;33m=\u001b[0m \u001b[0mtime\u001b[0m\u001b[1;33m.\u001b[0m\u001b[0mtime\u001b[0m\u001b[1;33m(\u001b[0m\u001b[1;33m)\u001b[0m\u001b[1;33m\u001b[0m\u001b[1;33m\u001b[0m\u001b[0m\n\u001b[0;32m      4\u001b[0m \u001b[0mprint\u001b[0m\u001b[1;33m(\u001b[0m\u001b[0mend\u001b[0m\u001b[1;33m-\u001b[0m\u001b[0mstart\u001b[0m\u001b[1;33m)\u001b[0m\u001b[1;33m\u001b[0m\u001b[1;33m\u001b[0m\u001b[0m\n",
      "\u001b[1;32m<ipython-input-21-b4141643886f>\u001b[0m in \u001b[0;36mcluster\u001b[1;34m(k)\u001b[0m\n\u001b[0;32m      9\u001b[0m     \u001b[1;32mwhile\u001b[0m \u001b[1;33m(\u001b[0m\u001b[1;32mTrue\u001b[0m\u001b[1;33m)\u001b[0m\u001b[1;33m:\u001b[0m\u001b[1;33m\u001b[0m\u001b[1;33m\u001b[0m\u001b[0m\n\u001b[0;32m     10\u001b[0m         \u001b[0mupdateCentroids\u001b[0m\u001b[1;33m(\u001b[0m\u001b[0mcentroids\u001b[0m\u001b[1;33m,\u001b[0m\u001b[0mpoints\u001b[0m\u001b[1;33m)\u001b[0m\u001b[1;33m\u001b[0m\u001b[1;33m\u001b[0m\u001b[0m\n\u001b[1;32m---> 11\u001b[1;33m         \u001b[1;32mif\u001b[0m\u001b[1;33m(\u001b[0m\u001b[1;32mnot\u001b[0m \u001b[0mupdatePoints\u001b[0m\u001b[1;33m(\u001b[0m\u001b[0mcentroids\u001b[0m\u001b[1;33m,\u001b[0m\u001b[0mpoints\u001b[0m\u001b[1;33m)\u001b[0m\u001b[1;33m)\u001b[0m\u001b[1;33m:\u001b[0m\u001b[1;33m\u001b[0m\u001b[1;33m\u001b[0m\u001b[0m\n\u001b[0m\u001b[0;32m     12\u001b[0m             \u001b[1;32mbreak\u001b[0m\u001b[1;33m\u001b[0m\u001b[1;33m\u001b[0m\u001b[0m\n\u001b[0;32m     13\u001b[0m     \u001b[1;32mreturn\u001b[0m \u001b[0mcentroids\u001b[0m\u001b[1;33m\u001b[0m\u001b[1;33m\u001b[0m\u001b[0m\n",
      "\u001b[1;32m<ipython-input-20-9287e4875c16>\u001b[0m in \u001b[0;36mupdatePoints\u001b[1;34m(centroids, points)\u001b[0m\n\u001b[0;32m      6\u001b[0m             \u001b[1;32mif\u001b[0m\u001b[1;33m(\u001b[0m\u001b[1;32mnot\u001b[0m \u001b[0mdone\u001b[0m\u001b[1;33m[\u001b[0m\u001b[0mcentroid\u001b[0m\u001b[1;33m[\u001b[0m\u001b[1;34m\"points\"\u001b[0m\u001b[1;33m]\u001b[0m\u001b[1;33m[\u001b[0m\u001b[0mi\u001b[0m\u001b[1;33m]\u001b[0m\u001b[1;33m]\u001b[0m\u001b[1;33m)\u001b[0m\u001b[1;33m:\u001b[0m\u001b[1;33m\u001b[0m\u001b[1;33m\u001b[0m\u001b[0m\n\u001b[0;32m      7\u001b[0m                 \u001b[0mdone\u001b[0m\u001b[1;33m[\u001b[0m\u001b[0mcentroid\u001b[0m\u001b[1;33m[\u001b[0m\u001b[1;34m\"points\"\u001b[0m\u001b[1;33m]\u001b[0m\u001b[1;33m[\u001b[0m\u001b[0mi\u001b[0m\u001b[1;33m]\u001b[0m\u001b[1;33m]\u001b[0m\u001b[1;33m=\u001b[0m\u001b[1;32mTrue\u001b[0m\u001b[1;33m\u001b[0m\u001b[1;33m\u001b[0m\u001b[0m\n\u001b[1;32m----> 8\u001b[1;33m                 \u001b[0mcenter\u001b[0m\u001b[1;33m=\u001b[0m\u001b[0mfindCentroid\u001b[0m\u001b[1;33m(\u001b[0m\u001b[0mcentroids\u001b[0m\u001b[1;33m,\u001b[0m\u001b[0mpoints\u001b[0m\u001b[1;33m[\u001b[0m\u001b[0mcentroid\u001b[0m\u001b[1;33m[\u001b[0m\u001b[1;34m\"points\"\u001b[0m\u001b[1;33m]\u001b[0m\u001b[1;33m[\u001b[0m\u001b[0mi\u001b[0m\u001b[1;33m]\u001b[0m\u001b[1;33m]\u001b[0m\u001b[1;33m)\u001b[0m\u001b[1;33m\u001b[0m\u001b[1;33m\u001b[0m\u001b[0m\n\u001b[0m\u001b[0;32m      9\u001b[0m                 \u001b[1;32mif\u001b[0m \u001b[1;33m(\u001b[0m\u001b[0mcenter\u001b[0m \u001b[1;33m!=\u001b[0m \u001b[0mpoints\u001b[0m\u001b[1;33m[\u001b[0m\u001b[0mcentroid\u001b[0m\u001b[1;33m[\u001b[0m\u001b[1;34m\"points\"\u001b[0m\u001b[1;33m]\u001b[0m\u001b[1;33m[\u001b[0m\u001b[0mi\u001b[0m\u001b[1;33m]\u001b[0m\u001b[1;33m]\u001b[0m\u001b[1;33m[\u001b[0m\u001b[1;36m1\u001b[0m\u001b[1;33m]\u001b[0m\u001b[1;33m)\u001b[0m\u001b[1;33m:\u001b[0m\u001b[1;33m\u001b[0m\u001b[1;33m\u001b[0m\u001b[0m\n\u001b[0;32m     10\u001b[0m                     \u001b[0mupdated\u001b[0m\u001b[1;33m=\u001b[0m\u001b[1;32mTrue\u001b[0m\u001b[1;33m\u001b[0m\u001b[1;33m\u001b[0m\u001b[0m\n",
      "\u001b[1;32m<ipython-input-14-69e201dc0a07>\u001b[0m in \u001b[0;36mfindCentroid\u001b[1;34m(centroids, point)\u001b[0m\n\u001b[0;32m      3\u001b[0m     \u001b[0mpos\u001b[0m \u001b[1;33m=\u001b[0m \u001b[1;36m0\u001b[0m\u001b[1;33m\u001b[0m\u001b[1;33m\u001b[0m\u001b[0m\n\u001b[0;32m      4\u001b[0m     \u001b[1;32mfor\u001b[0m \u001b[0mi\u001b[0m \u001b[1;32min\u001b[0m \u001b[0mrange\u001b[0m\u001b[1;33m(\u001b[0m\u001b[0mlen\u001b[0m\u001b[1;33m(\u001b[0m\u001b[0mcentroids\u001b[0m\u001b[1;33m)\u001b[0m\u001b[1;33m)\u001b[0m\u001b[1;33m:\u001b[0m\u001b[1;33m\u001b[0m\u001b[1;33m\u001b[0m\u001b[0m\n\u001b[1;32m----> 5\u001b[1;33m         \u001b[0mdist\u001b[0m \u001b[1;33m=\u001b[0m \u001b[0meuclid2\u001b[0m\u001b[1;33m(\u001b[0m\u001b[0mpoint\u001b[0m\u001b[1;33m[\u001b[0m\u001b[1;36m0\u001b[0m\u001b[1;33m]\u001b[0m\u001b[1;33m,\u001b[0m\u001b[0mcentroids\u001b[0m\u001b[1;33m[\u001b[0m\u001b[0mi\u001b[0m\u001b[1;33m]\u001b[0m\u001b[1;33m[\u001b[0m\u001b[1;34m\"coordinates\"\u001b[0m\u001b[1;33m]\u001b[0m\u001b[1;33m)\u001b[0m\u001b[1;33m\u001b[0m\u001b[1;33m\u001b[0m\u001b[0m\n\u001b[0m\u001b[0;32m      6\u001b[0m         \u001b[1;32mif\u001b[0m \u001b[0mminDist\u001b[0m \u001b[1;33m==\u001b[0m \u001b[1;33m-\u001b[0m\u001b[1;36m1\u001b[0m\u001b[1;33m:\u001b[0m\u001b[1;33m\u001b[0m\u001b[1;33m\u001b[0m\u001b[0m\n\u001b[0;32m      7\u001b[0m             \u001b[0mminDist\u001b[0m \u001b[1;33m=\u001b[0m \u001b[0mdist\u001b[0m\u001b[1;33m\u001b[0m\u001b[1;33m\u001b[0m\u001b[0m\n",
      "\u001b[1;32m<ipython-input-12-8ba9606e992a>\u001b[0m in \u001b[0;36meuclid2\u001b[1;34m(p1, p2)\u001b[0m\n\u001b[0;32m      1\u001b[0m \u001b[1;32mdef\u001b[0m \u001b[0meuclid2\u001b[0m\u001b[1;33m(\u001b[0m\u001b[0mp1\u001b[0m\u001b[1;33m,\u001b[0m\u001b[0mp2\u001b[0m\u001b[1;33m)\u001b[0m\u001b[1;33m:\u001b[0m\u001b[1;33m\u001b[0m\u001b[1;33m\u001b[0m\u001b[0m\n\u001b[1;32m----> 2\u001b[1;33m     \u001b[0mp\u001b[0m\u001b[1;33m=\u001b[0m\u001b[0mp1\u001b[0m\u001b[1;33m-\u001b[0m\u001b[0mp2\u001b[0m\u001b[1;33m\u001b[0m\u001b[1;33m\u001b[0m\u001b[0m\n\u001b[0m\u001b[0;32m      3\u001b[0m     \u001b[0mp\u001b[0m\u001b[1;33m=\u001b[0m\u001b[0mp\u001b[0m\u001b[1;33m**\u001b[0m\u001b[1;36m2\u001b[0m\u001b[1;33m\u001b[0m\u001b[1;33m\u001b[0m\u001b[0m\n\u001b[0;32m      4\u001b[0m     \u001b[1;32mreturn\u001b[0m \u001b[0mnp\u001b[0m\u001b[1;33m.\u001b[0m\u001b[0msum\u001b[0m\u001b[1;33m(\u001b[0m\u001b[0mp\u001b[0m\u001b[1;33m)\u001b[0m\u001b[1;33m\u001b[0m\u001b[1;33m\u001b[0m\u001b[0m\n",
      "\u001b[1;31mValueError\u001b[0m: operands could not be broadcast together with shapes (128,) (2,) "
     ]
    }
   ],
   "source": [
    "start=time.time()\n",
    "a=cluster(2)\n",
    "end  = time.time()\n",
    "print(end-start)"
   ]
  },
  {
   "cell_type": "code",
   "execution_count": 10,
   "metadata": {},
   "outputs": [
    {
     "ename": "KeyboardInterrupt",
     "evalue": "",
     "output_type": "error",
     "traceback": [
      "\u001b[1;31m---------------------------------------------------------------------------\u001b[0m",
      "\u001b[1;31mKeyboardInterrupt\u001b[0m                         Traceback (most recent call last)",
      "\u001b[1;32m<ipython-input-10-02a2a1271d17>\u001b[0m in \u001b[0;36m<module>\u001b[1;34m\u001b[0m\n\u001b[0;32m      2\u001b[0m \u001b[1;32mfor\u001b[0m \u001b[0mi\u001b[0m \u001b[1;32min\u001b[0m \u001b[0mrange\u001b[0m\u001b[1;33m(\u001b[0m\u001b[1;36m250\u001b[0m\u001b[1;33m,\u001b[0m\u001b[1;36m800\u001b[0m\u001b[1;33m,\u001b[0m\u001b[1;36m50\u001b[0m\u001b[1;33m)\u001b[0m\u001b[1;33m:\u001b[0m\u001b[1;33m\u001b[0m\u001b[1;33m\u001b[0m\u001b[0m\n\u001b[0;32m      3\u001b[0m     \u001b[0mstart\u001b[0m\u001b[1;33m=\u001b[0m\u001b[0mtime\u001b[0m\u001b[1;33m.\u001b[0m\u001b[0mtime\u001b[0m\u001b[1;33m(\u001b[0m\u001b[1;33m)\u001b[0m\u001b[1;33m\u001b[0m\u001b[1;33m\u001b[0m\u001b[0m\n\u001b[1;32m----> 4\u001b[1;33m     \u001b[0ma\u001b[0m\u001b[1;33m=\u001b[0m\u001b[0mcluster2\u001b[0m\u001b[1;33m(\u001b[0m\u001b[0mi\u001b[0m\u001b[1;33m)\u001b[0m\u001b[1;33m\u001b[0m\u001b[1;33m\u001b[0m\u001b[0m\n\u001b[0m\u001b[0;32m      5\u001b[0m     \u001b[0mend\u001b[0m\u001b[1;33m=\u001b[0m\u001b[0mtime\u001b[0m\u001b[1;33m.\u001b[0m\u001b[0mtime\u001b[0m\u001b[1;33m(\u001b[0m\u001b[1;33m)\u001b[0m\u001b[1;33m\u001b[0m\u001b[1;33m\u001b[0m\u001b[0m\n\u001b[0;32m      6\u001b[0m     \u001b[0mprint\u001b[0m\u001b[1;33m(\u001b[0m\u001b[0mend\u001b[0m\u001b[1;33m-\u001b[0m\u001b[0mstart\u001b[0m\u001b[1;33m)\u001b[0m\u001b[1;33m\u001b[0m\u001b[1;33m\u001b[0m\u001b[0m\n",
      "\u001b[1;32m<ipython-input-9-f30035b75cd2>\u001b[0m in \u001b[0;36mcluster2\u001b[1;34m(k)\u001b[0m\n\u001b[0;32m      9\u001b[0m     \u001b[1;32mwhile\u001b[0m \u001b[1;33m(\u001b[0m\u001b[1;32mTrue\u001b[0m\u001b[1;33m)\u001b[0m\u001b[1;33m:\u001b[0m\u001b[1;33m\u001b[0m\u001b[1;33m\u001b[0m\u001b[0m\n\u001b[0;32m     10\u001b[0m         \u001b[0mupdateCentroids2\u001b[0m\u001b[1;33m(\u001b[0m\u001b[0mcentroids\u001b[0m\u001b[1;33m,\u001b[0m\u001b[0mpoints\u001b[0m\u001b[1;33m)\u001b[0m\u001b[1;33m\u001b[0m\u001b[1;33m\u001b[0m\u001b[0m\n\u001b[1;32m---> 11\u001b[1;33m         \u001b[1;32mif\u001b[0m\u001b[1;33m(\u001b[0m\u001b[1;32mnot\u001b[0m \u001b[0mupdatePoints2\u001b[0m\u001b[1;33m(\u001b[0m\u001b[0mcentroids\u001b[0m\u001b[1;33m,\u001b[0m\u001b[0mpoints\u001b[0m\u001b[1;33m)\u001b[0m\u001b[1;33m)\u001b[0m\u001b[1;33m:\u001b[0m\u001b[1;33m\u001b[0m\u001b[1;33m\u001b[0m\u001b[0m\n\u001b[0m\u001b[0;32m     12\u001b[0m             \u001b[1;32mbreak\u001b[0m\u001b[1;33m\u001b[0m\u001b[1;33m\u001b[0m\u001b[0m\n\u001b[0;32m     13\u001b[0m     \u001b[1;32mreturn\u001b[0m \u001b[0mcentroids\u001b[0m\u001b[1;33m\u001b[0m\u001b[1;33m\u001b[0m\u001b[0m\n",
      "\u001b[1;32m<ipython-input-8-5ca0b3170992>\u001b[0m in \u001b[0;36mupdatePoints2\u001b[1;34m(centroids, points)\u001b[0m\n\u001b[0;32m      4\u001b[0m     \u001b[1;32mfor\u001b[0m \u001b[0mcentroid\u001b[0m \u001b[1;32min\u001b[0m \u001b[0mcentroids\u001b[0m\u001b[1;33m:\u001b[0m\u001b[1;33m\u001b[0m\u001b[1;33m\u001b[0m\u001b[0m\n\u001b[0;32m      5\u001b[0m         \u001b[1;32mfor\u001b[0m \u001b[0mi\u001b[0m \u001b[1;32min\u001b[0m \u001b[0mrange\u001b[0m\u001b[1;33m(\u001b[0m\u001b[0mlen\u001b[0m\u001b[1;33m(\u001b[0m\u001b[0mpoints\u001b[0m\u001b[1;33m)\u001b[0m\u001b[1;33m)\u001b[0m\u001b[1;33m:\u001b[0m\u001b[1;33m\u001b[0m\u001b[1;33m\u001b[0m\u001b[0m\n\u001b[1;32m----> 6\u001b[1;33m             \u001b[1;32mif\u001b[0m\u001b[1;33m(\u001b[0m\u001b[0mcentroid\u001b[0m\u001b[1;33m[\u001b[0m\u001b[1;34m\"points\"\u001b[0m\u001b[1;33m]\u001b[0m\u001b[1;33m[\u001b[0m\u001b[0mi\u001b[0m\u001b[1;33m]\u001b[0m\u001b[1;33m)\u001b[0m\u001b[1;33m:\u001b[0m\u001b[1;33m\u001b[0m\u001b[1;33m\u001b[0m\u001b[0m\n\u001b[0m\u001b[0;32m      7\u001b[0m                 \u001b[1;32mif\u001b[0m\u001b[1;33m(\u001b[0m\u001b[1;32mnot\u001b[0m \u001b[0mdone\u001b[0m\u001b[1;33m[\u001b[0m\u001b[0mcentroid\u001b[0m\u001b[1;33m[\u001b[0m\u001b[1;34m\"points\"\u001b[0m\u001b[1;33m]\u001b[0m\u001b[1;33m[\u001b[0m\u001b[0mi\u001b[0m\u001b[1;33m]\u001b[0m\u001b[1;33m]\u001b[0m\u001b[1;33m)\u001b[0m\u001b[1;33m:\u001b[0m\u001b[1;33m\u001b[0m\u001b[1;33m\u001b[0m\u001b[0m\n\u001b[0;32m      8\u001b[0m                     \u001b[0mdone\u001b[0m\u001b[1;33m[\u001b[0m\u001b[0mcentroid\u001b[0m\u001b[1;33m[\u001b[0m\u001b[1;34m\"points\"\u001b[0m\u001b[1;33m]\u001b[0m\u001b[1;33m[\u001b[0m\u001b[0mi\u001b[0m\u001b[1;33m]\u001b[0m\u001b[1;33m]\u001b[0m\u001b[1;33m=\u001b[0m\u001b[1;32mTrue\u001b[0m\u001b[1;33m\u001b[0m\u001b[1;33m\u001b[0m\u001b[0m\n",
      "\u001b[1;31mKeyboardInterrupt\u001b[0m: "
     ]
    }
   ],
   "source": [
    "al=[]\n",
    "for i in range(250,800,50):\n",
    "    start=time.time()\n",
    "    a=cluster2(i)\n",
    "    end=time.time()\n",
    "    print(end-start)\n",
    "    al.append(a)\n",
    "    pickle.dump(a, open((\"cluster\"+str(i)+\".p\"), \"wb\" ))"
   ]
  },
  {
   "cell_type": "code",
   "execution_count": 40,
   "metadata": {},
   "outputs": [],
   "source": [
    "def clusterAll(kcluster,kn,testPics):\n",
    "    #pictures=[['1', 'DSC05903'], ['1', 'DSC05904'], ['1', 'DSC05905'], ['1', 'DSC05906'], ['1', 'DSC05907'], ['2', 'DSC05908'], ['2', 'DSC05909'], ['2', 'DSC05910'], ['2', 'DSC05911'], ['2', 'DSC05912'], ['3', 'DSC05913'], ['3', 'DSC05914'], ['3', 'DSC05915'], ['3', 'DSC05916'], ['4', 'DSC05917'], ['4', 'DSC05918'], ['4', 'DSC05919'], ['4', 'DSC05920'], ['4', 'DSC05921'], ['5', 'DSC05922'], ['5', 'DSC05923'], ['5', 'DSC05924'], ['5', 'DSC05925'], ['5', 'DSC05926'], ['5', 'DSC05927'], ['5', 'DSC05928'], ['6', 'DSC05929'], ['6', 'DSC05930'], ['6', 'DSC05931'], ['6', 'DSC05932'], ['6', 'DSC05933'], ['7', 'DSC05934'], ['7', 'DSC05935'], ['7', 'DSC05936'], ['7', 'DSC05937'], ['7', 'DSC05938'], ['7', 'DSC05939'], ['8', 'DSC05940'], ['8', 'DSC05941'], ['8', 'DSC05942'], ['8', 'DSC05943'], ['8', 'DSC05944'], ['8', 'DSC05945'], ['8', 'DSC05946'], ['8', 'DSC05947'], ['8', 'DSC05948'], ['8', 'DSC05949'], ['8', 'DSC05950'], ['8', 'DSC05951']]\n",
    "    pictures2=[['DSC05903','DSC05904', 'DSC05905', 'DSC05906','DSC05907'],['DSC05908','DSC05909', 'DSC05910','DSC05911','DSC05912'], ['DSC05913', 'DSC05914', 'DSC05915', 'DSC05916'], ['DSC05917','DSC05918', 'DSC05919','DSC05920','DSC05921'], ['DSC05922', 'DSC05923', 'DSC05924', 'DSC05925', 'DSC05926','DSC05927','DSC05928'], ['DSC05929','DSC05930','DSC05931', 'DSC05932', 'DSC05933'], ['DSC05934', 'DSC05935', 'DSC05936', 'DSC05937','DSC05938','DSC05939'], ['DSC05940', 'DSC05941','DSC05942', 'DSC05943', 'DSC05944', 'DSC05945', 'DSC05946','DSC05947', 'DSC05948', 'DSC05949','DSC05950','DSC05951']]\n",
    "    test={}\n",
    "    train={}\n",
    "    columns=[\"building\",\"pic\"]     \n",
    "    for i in range(kcluster):\n",
    "        columns.append(\"x_\"+str(i))\n",
    "    for col in columns:\n",
    "        test[col]=[]\n",
    "        train[col]=[]\n",
    "    for i in range(len(pictures2)):\n",
    "        random.shuffle(pictures2[i])\n",
    "        j=0\n",
    "        n=0\n",
    "        while(n<kn):\n",
    "            if([str(i+1),pictures2[i][j]] not in testPics):\n",
    "                clus=cluster(kcluster,pictures2[i][j])\n",
    "                n=n+1\n",
    "                train[\"building\"].append(str(i+1))\n",
    "                train[\"pic\"].append(pictures2[i][j])\n",
    "                for k in range(kcluster):\n",
    "                    train[\"x_\"+str(k)].append(clus[k])\n",
    "            j=j+1\n",
    "    for pic in testPics:\n",
    "        clus=cluster(kcluster,pic[1])\n",
    "        test[\"building\"].append(pic[0])\n",
    "        test[\"pic\"].append(pic[1])\n",
    "        for i in range(kcluster):\n",
    "            test[\"x_\"+str(i)].append(clus[i])\n",
    "    return [pd.DataFrame(train),pd.DataFrame(test)]"
   ]
  },
  {
   "cell_type": "code",
   "execution_count": 41,
   "metadata": {},
   "outputs": [
    {
     "name": "stdout",
     "output_type": "stream",
     "text": [
      "[  building       pic   x_0   x_1\n",
      "0        1  DSC05903  1792   708\n",
      "1        2  DSC05908   471  2029\n",
      "2        3  DSC05913   718  1782\n",
      "3        4  DSC05920  1709   791\n",
      "4        5  DSC05928   455  2046\n",
      "5        6  DSC05931  1605   895\n",
      "6        7  DSC05935  1844   656\n",
      "7        8  DSC05950  2182   319,   building       pic   x_0  x_1\n",
      "0        3  DSC05915  2076  424\n",
      "1        1  DSC05904  1603  897]\n"
     ]
    }
   ],
   "source": [
    "c=clusterAll(2,1,[['3', 'DSC05915'],['1', 'DSC05904']])\n",
    "print(c)"
   ]
  },
  {
   "cell_type": "code",
   "execution_count": 16,
   "metadata": {},
   "outputs": [],
   "source": [
    "def euclidr(row1,row2,clusterSize): \n",
    "    return [(sum([(row1[\"x_\"+str(i)]-row2[\"x_\"+str(i)])**2 for i in range(clusterSize)])),row2['building']]"
   ]
  },
  {
   "cell_type": "code",
   "execution_count": 56,
   "metadata": {},
   "outputs": [],
   "source": [
    "def knn(k,train,test,clusterSize):\n",
    "    pred = []\n",
    "    distances=[]\n",
    "    for i in range(test.shape[0]):\n",
    "        distances.append([])\n",
    "    for i in range(train.shape[0]):\n",
    "        dist=test.apply(euclidr, axis=1, args=(train.iloc[i],clusterSize)).tolist()\n",
    "        for i in range(len(dist)):\n",
    "            distances[i].append(dist[i])\n",
    "    closest=[]\n",
    "    for d in distances:\n",
    "        d.sort(key = lambda x: x[0])\n",
    "        v=[0]*8\n",
    "        for di in d:\n",
    "            if (v[int(di[1])-1]==k-1):\n",
    "                closest.append(di[1])\n",
    "                break\n",
    "            v[int(di[1])]=v[int(di[1])]+1\n",
    "    test[\"closest\"]=closest\n",
    "    return(test)"
   ]
  },
  {
   "cell_type": "code",
   "execution_count": 58,
   "metadata": {},
   "outputs": [
    {
     "name": "stdout",
     "output_type": "stream",
     "text": [
      "  building       pic   x_0  x_1 closest\n",
      "0        3  DSC05915  2076  424       8\n",
      "1        1  DSC05904  1603  897       6\n"
     ]
    }
   ],
   "source": [
    "print(knn(1,c[0],c[1],2))"
   ]
  }
 ],
 "metadata": {
  "kernelspec": {
   "display_name": "Python 3",
   "language": "python",
   "name": "python3"
  },
  "language_info": {
   "codemirror_mode": {
    "name": "ipython",
    "version": 3
   },
   "file_extension": ".py",
   "mimetype": "text/x-python",
   "name": "python",
   "nbconvert_exporter": "python",
   "pygments_lexer": "ipython3",
   "version": "3.7.3"
  }
 },
 "nbformat": 4,
 "nbformat_minor": 2
}
