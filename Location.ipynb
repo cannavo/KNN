{
 "cells": [
  {
   "cell_type": "code",
   "execution_count": 3,
   "metadata": {},
   "outputs": [],
   "source": [
    "import numpy as np\n",
    "import pandas as pd"
   ]
  },
  {
   "cell_type": "code",
   "execution_count": 22,
   "metadata": {},
   "outputs": [],
   "source": [
    "def euclid(p1,p2): \n",
    "    p=p1-p2\n",
    "    p=p**2\n",
    "    return np.sum(p)"
   ]
  },
  {
   "cell_type": "code",
   "execution_count": 96,
   "metadata": {},
   "outputs": [],
   "source": [
    "def levenshtein(p1, p2):\n",
    "    size = len(p1) + 1\n",
    "    matrix = np.zeros((size, size))\n",
    "    for x in range(size):\n",
    "        matrix [x, 0] = x\n",
    "    for y in range(size):\n",
    "        matrix [0, y] = y\n",
    "        \n",
    "    for x in range(1, size):\n",
    "        for y in range(1, size):\n",
    "            if (p1[x-1] == p2[y-1]):\n",
    "                matrix [x,y] = min(matrix[x-1, y] + 1, matrix[x-1, y-1], matrix[x, y-1] + 1)\n",
    "            else:\n",
    "                matrix [x,y] = min(matrix[x-1,y] + 1, matrix[x-1,y-1] + 1, matrix[x,y-1] + 1)\n",
    "    return (matrix[size - 1, size - 1])"
   ]
  },
  {
   "cell_type": "code",
   "execution_count": 23,
   "metadata": {},
   "outputs": [],
   "source": [
    "def knn(k,train,test):\n",
    "    pred = []\n",
    "    for t in test:\n",
    "        dist=[]\n",
    "        for tr in train:\n",
    "            dist.append([euclid(t,tr[0]),tr[1]])\n",
    "        dist.sort(key = lambda x: x[0])\n",
    "        v=[0]*9\n",
    "        for d in dist:\n",
    "            if (v[d[1]]==k-1):\n",
    "                pred.append(d[1])\n",
    "                break\n",
    "            v[d[1]]=v[d[1]]+1\n",
    "    return pred"
   ]
  },
  {
   "cell_type": "code",
   "execution_count": 24,
   "metadata": {},
   "outputs": [],
   "source": [
    "clusters=[]\n",
    "histograms=[]\n",
    "for i in range(300,800,100):\n",
    "    with open(str(i)+\".txt\",\"r\") as fp:\n",
    "        lines=fp.readlines()\n",
    "        cluster=[]\n",
    "        for line in lines:\n",
    "            line=line.split(\" \")[:-1]\n",
    "            line = list(map(float, line)) \n",
    "            cluster.append(line)\n",
    "        clusters.append(cluster)\n",
    "    with open(str(i)+\"h.txt\",\"r\") as fp:\n",
    "        lines=fp.readlines()\n",
    "        histogram={}\n",
    "        for line in lines:\n",
    "            line=line.split(\" \")[:-1]\n",
    "            picn=line[0]\n",
    "            histogram[picn] = list(map(float, line[1:])) \n",
    "        histograms.append(histogram)"
   ]
  },
  {
   "cell_type": "code",
   "execution_count": 90,
   "metadata": {},
   "outputs": [],
   "source": [
    "def validate():\n",
    "    pictures=[['DSC05903','DSC05904', 'DSC05905', 'DSC05906','DSC05907'],['DSC05908','DSC05909', 'DSC05910','DSC05911','DSC05912'], ['DSC05913', 'DSC05914', 'DSC05915', 'DSC05916'], ['DSC05917','DSC05918', 'DSC05919','DSC05920','DSC05921'], ['DSC05922', 'DSC05923', 'DSC05924', 'DSC05925', 'DSC05926','DSC05927','DSC05928'], ['DSC05929','DSC05930','DSC05931', 'DSC05932', 'DSC05933'], ['DSC05934', 'DSC05935', 'DSC05936', 'DSC05937','DSC05938','DSC05939'], ['DSC05940', 'DSC05941','DSC05942', 'DSC05943', 'DSC05944', 'DSC05945', 'DSC05946','DSC05947', 'DSC05948', 'DSC05949','DSC05950','DSC05951']]\n",
    "    bestf=0\n",
    "    bestc=0\n",
    "    bestk=0\n",
    "    for h in range(5):\n",
    "        for kk in range(3):\n",
    "            tests=[[] for i in range(4)]\n",
    "            trains=[[] for i in range(4)]\n",
    "            for i in range(len(pictures)):\n",
    "                pic=np.array(pictures[i])\n",
    "                np.random.shuffle(pic)\n",
    "                s=np.array_split(pic,4) \n",
    "                for j in range(4):\n",
    "                    for k in s[j]:\n",
    "                        tests[j].append([k,i+1])\n",
    "                for j in range(4):\n",
    "                    for k in range(len(s)):\n",
    "                        if (j != k):\n",
    "                            for l in s[k]:\n",
    "                                trains[j].append([l,i+1])\n",
    "            avg=0\n",
    "            for i in range(4):\n",
    "                res=[[0]*8 for j in range(8)]\n",
    "                actual=[]\n",
    "                testh=[]\n",
    "                trainh=[]\n",
    "                for t in tests[i]:\n",
    "                    actual.append(t[1])\n",
    "                    testh.append(np.array(histograms[h][t[0]+\".JPG\"]))\n",
    "                for te in trains[i]:\n",
    "                    trainh.append([np.array(histograms[h][te[0]+\".JPG\"]),te[1]])\n",
    "                pred=knn(kk+1,trainh,testh)\n",
    "                for j in range(len(actual)):\n",
    "                    res[actual[j]-1][pred[j]-1]+=1\n",
    "                recall=[0]*8\n",
    "                precision=[0]*8\n",
    "                f1s=[0]*8\n",
    "                for j in range(8):\n",
    "                    act=0\n",
    "                    pre=0\n",
    "                    for k in range(8):\n",
    "                        act+=res[j][k]\n",
    "                        pre+=res[k][j]\n",
    "                    if (act==0 and pre==0):\n",
    "                        recall[j]=1\n",
    "                        precision[j]=1\n",
    "                        f1s[j]=1\n",
    "                    elif (res[j][j]==0 and (act!=0 or pre!=0)):\n",
    "                        recall[j]=0\n",
    "                        precision[j]=0\n",
    "                        f1s[j]=0\n",
    "                    else:         \n",
    "                        recall[j]=res[j][j]/act\n",
    "                        precision[j]=res[j][j]/pre\n",
    "                        f1s[j]=2*(precision[j]*recall[j])/(precision[j]+recall[j])\n",
    "                f1=np.mean(f1s)\n",
    "                avg+=f1\n",
    "            avg=avg/4\n",
    "            if (avg>bestf):\n",
    "                bestf=avg\n",
    "                bestc=h*100+300\n",
    "                bestk=kk+1\n",
    "    return bestc+bestk\n",
    "    "
   ]
  },
  {
   "cell_type": "code",
   "execution_count": 94,
   "metadata": {},
   "outputs": [
    {
     "name": "stdout",
     "output_type": "stream",
     "text": [
      "{301: 447, 302: 101, 303: 0, 401: 109, 402: 381, 403: 1, 501: 555, 502: 563, 503: 0, 601: 827, 602: 1161, 603: 0, 701: 745, 702: 108, 703: 2}\n"
     ]
    }
   ],
   "source": [
    "best={301:0,302:0,303:0,401:0,402:0,403:0,501:0,502:0,503:0,601:0,602:0,603:0,701:0,702:0,703:0}\n",
    "for i in range(5000):\n",
    "    best[validate()]+=1\n",
    "print(best)"
   ]
  },
  {
   "cell_type": "code",
   "execution_count": 95,
   "metadata": {},
   "outputs": [
    {
     "name": "stdout",
     "output_type": "stream",
     "text": [
      "602\n"
     ]
    }
   ],
   "source": [
    "v=list(best.values())\n",
    "k=list(best.keys())\n",
    "print(k[v.index(max(v))])"
   ]
  },
  {
   "cell_type": "code",
   "execution_count": null,
   "metadata": {},
   "outputs": [],
   "source": []
  }
 ],
 "metadata": {
  "kernelspec": {
   "display_name": "Python 3",
   "language": "python",
   "name": "python3"
  },
  "language_info": {
   "codemirror_mode": {
    "name": "ipython",
    "version": 3
   },
   "file_extension": ".py",
   "mimetype": "text/x-python",
   "name": "python",
   "nbconvert_exporter": "python",
   "pygments_lexer": "ipython3",
   "version": "3.7.3"
  }
 },
 "nbformat": 4,
 "nbformat_minor": 2
}
